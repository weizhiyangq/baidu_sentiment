{
 "cells": [
  {
   "cell_type": "code",
   "execution_count": null,
   "metadata": {
    "collapsed": true
   },
   "outputs": [],
   "source": [
    "import pandas as pd\n",
    "from keras.preprocessing import sequence\n",
    "from keras.preprocessing.text import Tokenizer\n",
    "from keras.models import Sequential\n",
    "from keras.layers.core import Dense,Dropout,Activation,Flatten\n",
    "from keras.layers.embeddings import Embedding\n",
    "from keras.layers.recurrent import SimpleRNN\n",
    "import jieba"
   ]
  },
  {
   "cell_type": "code",
   "execution_count": 613,
   "metadata": {},
   "outputs": [
    {
     "data": {
      "text/html": [
       "<div>\n",
       "<style>\n",
       "    .dataframe thead tr:only-child th {\n",
       "        text-align: right;\n",
       "    }\n",
       "\n",
       "    .dataframe thead th {\n",
       "        text-align: left;\n",
       "    }\n",
       "\n",
       "    .dataframe tbody tr th {\n",
       "        vertical-align: top;\n",
       "    }\n",
       "</style>\n",
       "<table border=\"1\" class=\"dataframe\">\n",
       "  <thead>\n",
       "    <tr style=\"text-align: right;\">\n",
       "      <th></th>\n",
       "      <th>1</th>\n",
       "      <th>2</th>\n",
       "      <th>3</th>\n",
       "    </tr>\n",
       "    <tr>\n",
       "      <th>0</th>\n",
       "      <th></th>\n",
       "      <th></th>\n",
       "      <th></th>\n",
       "    </tr>\n",
       "  </thead>\n",
       "  <tbody>\n",
       "    <tr>\n",
       "      <th>1</th>\n",
       "      <td>食品餐饮</td>\n",
       "      <td>买这套系统本来是用来做我们公司的公众号第三方平台代运营的，没想到还有app，而且每个都很方便...</td>\n",
       "      <td>2</td>\n",
       "    </tr>\n",
       "    <tr>\n",
       "      <th>2</th>\n",
       "      <td>食品餐饮</td>\n",
       "      <td>烤鸭还是不错的，别的菜没什么特殊的</td>\n",
       "      <td>1</td>\n",
       "    </tr>\n",
       "    <tr>\n",
       "      <th>3</th>\n",
       "      <td>食品餐饮</td>\n",
       "      <td>使用说明看不懂！不会用，很多操作没详细标明！</td>\n",
       "      <td>0</td>\n",
       "    </tr>\n",
       "    <tr>\n",
       "      <th>4</th>\n",
       "      <td>食品餐饮</td>\n",
       "      <td>越来越不好了，菜品也少了，服务也不及时。</td>\n",
       "      <td>0</td>\n",
       "    </tr>\n",
       "    <tr>\n",
       "      <th>5</th>\n",
       "      <td>食品餐饮</td>\n",
       "      <td>是在是不知道该吃什么好、就来了</td>\n",
       "      <td>1</td>\n",
       "    </tr>\n",
       "    <tr>\n",
       "      <th>6</th>\n",
       "      <td>食品餐饮</td>\n",
       "      <td>跟这家公司合作过一次，系统功能很强大，运行很流畅，很不错的。。</td>\n",
       "      <td>2</td>\n",
       "    </tr>\n",
       "    <tr>\n",
       "      <th>7</th>\n",
       "      <td>食品餐饮</td>\n",
       "      <td>点的中辣，但是比平时在店里吃的要辣很多，可能是叫外卖会比炒好直接吃花的时间长，辣味都出来了的...</td>\n",
       "      <td>2</td>\n",
       "    </tr>\n",
       "    <tr>\n",
       "      <th>8</th>\n",
       "      <td>食品餐饮</td>\n",
       "      <td>的确是专业，用心做，出品方面都给好评</td>\n",
       "      <td>2</td>\n",
       "    </tr>\n",
       "    <tr>\n",
       "      <th>9</th>\n",
       "      <td>食品餐饮</td>\n",
       "      <td>还不错，下次有机会还来哈哈哈啊哈哈哈还</td>\n",
       "      <td>2</td>\n",
       "    </tr>\n",
       "    <tr>\n",
       "      <th>10</th>\n",
       "      <td>食品餐饮</td>\n",
       "      <td>不错，品种齐全，上菜很快，味道也不错，服务态度好</td>\n",
       "      <td>2</td>\n",
       "    </tr>\n",
       "    <tr>\n",
       "      <th>11</th>\n",
       "      <td>食品餐饮</td>\n",
       "      <td>感觉比店里少！不过很卫生！过年当的加了菜</td>\n",
       "      <td>2</td>\n",
       "    </tr>\n",
       "    <tr>\n",
       "      <th>12</th>\n",
       "      <td>食品餐饮</td>\n",
       "      <td>这个就是我们需要的外卖点单系统。感谢你们解决了我的问题。有新办理时我还会来麻烦你们的。</td>\n",
       "      <td>2</td>\n",
       "    </tr>\n",
       "    <tr>\n",
       "      <th>13</th>\n",
       "      <td>食品餐饮</td>\n",
       "      <td>总体不错，就是海鲜还是太少了。希望可以多一些海鲜。</td>\n",
       "      <td>1</td>\n",
       "    </tr>\n",
       "    <tr>\n",
       "      <th>14</th>\n",
       "      <td>食品餐饮</td>\n",
       "      <td>就在旁边上班，这里已经成为我们定点食堂之意，口味不错，服务也很热情，环境也不错，一直都是吃你...</td>\n",
       "      <td>2</td>\n",
       "    </tr>\n",
       "    <tr>\n",
       "      <th>15</th>\n",
       "      <td>食品餐饮</td>\n",
       "      <td>常去，味道不错。上菜时间超了，有个菜免费了。</td>\n",
       "      <td>2</td>\n",
       "    </tr>\n",
       "    <tr>\n",
       "      <th>16</th>\n",
       "      <td>食品餐饮</td>\n",
       "      <td>经济实惠、好吃不贵，环境也是没得说。</td>\n",
       "      <td>2</td>\n",
       "    </tr>\n",
       "    <tr>\n",
       "      <th>17</th>\n",
       "      <td>食品餐饮</td>\n",
       "      <td>最爱的一家日料店，性价比超高，刺身都非常新鲜，摆拍也漂亮，服务很热情，有求必应</td>\n",
       "      <td>2</td>\n",
       "    </tr>\n",
       "    <tr>\n",
       "      <th>18</th>\n",
       "      <td>食品餐饮</td>\n",
       "      <td>越来越差了，价位高了，菜量小了。希望努力提高。</td>\n",
       "      <td>0</td>\n",
       "    </tr>\n",
       "    <tr>\n",
       "      <th>19</th>\n",
       "      <td>食品餐饮</td>\n",
       "      <td>比晋祠路上的那个量少多了，各种东西量都少</td>\n",
       "      <td>0</td>\n",
       "    </tr>\n",
       "    <tr>\n",
       "      <th>20</th>\n",
       "      <td>食品餐饮</td>\n",
       "      <td>挺好的，菜品有一些单一，扇贝好吃，水果太少，服务员服务可以，还是挺开心的</td>\n",
       "      <td>2</td>\n",
       "    </tr>\n",
       "    <tr>\n",
       "      <th>21</th>\n",
       "      <td>食品餐饮</td>\n",
       "      <td>吃货餐饮软件，在我使用那么多的收银软件中，最容易上手和操作的软件。</td>\n",
       "      <td>2</td>\n",
       "    </tr>\n",
       "    <tr>\n",
       "      <th>22</th>\n",
       "      <td>食品餐饮</td>\n",
       "      <td>黄手艺冒菜吃过了，味道好，上菜速度快，可以说是色香味俱全，冒菜里加的青豆很好吃哦，香脆可口。...</td>\n",
       "      <td>2</td>\n",
       "    </tr>\n",
       "    <tr>\n",
       "      <th>23</th>\n",
       "      <td>食品餐饮</td>\n",
       "      <td>哪个菜都不好吃，特别是烤鸭，太失望了</td>\n",
       "      <td>0</td>\n",
       "    </tr>\n",
       "    <tr>\n",
       "      <th>24</th>\n",
       "      <td>食品餐饮</td>\n",
       "      <td>在中华餐饮网做推广什么样联系客服，</td>\n",
       "      <td>2</td>\n",
       "    </tr>\n",
       "    <tr>\n",
       "      <th>25</th>\n",
       "      <td>食品餐饮</td>\n",
       "      <td>菜品味道方面没有任何问题，价格也很适中</td>\n",
       "      <td>2</td>\n",
       "    </tr>\n",
       "    <tr>\n",
       "      <th>26</th>\n",
       "      <td>食品餐饮</td>\n",
       "      <td>现如今的公司能够做成这样已经很不错了，微订点单网站的信息更新很及时，内容来源很真实。</td>\n",
       "      <td>2</td>\n",
       "    </tr>\n",
       "    <tr>\n",
       "      <th>27</th>\n",
       "      <td>食品餐饮</td>\n",
       "      <td>这个软件优化方案都不错呢，非常的给力，现在排名上升很快了，相信再几天都首页没问题呢。</td>\n",
       "      <td>2</td>\n",
       "    </tr>\n",
       "    <tr>\n",
       "      <th>28</th>\n",
       "      <td>食品餐饮</td>\n",
       "      <td>味道很好，特别是鱼饼很好吃，就是服务再好一点就可以了，好几个服务员站在那儿没事做，叫了几声都...</td>\n",
       "      <td>1</td>\n",
       "    </tr>\n",
       "    <tr>\n",
       "      <th>29</th>\n",
       "      <td>食品餐饮</td>\n",
       "      <td>来了很多次了，在自助餐里算性价比较高的</td>\n",
       "      <td>2</td>\n",
       "    </tr>\n",
       "    <tr>\n",
       "      <th>30</th>\n",
       "      <td>食品餐饮</td>\n",
       "      <td>上菜速度快，但是份量感觉比以前小多了。有的菜品比较坑。点了一个鱼头泡饼。特别小的一个盘子，饼...</td>\n",
       "      <td>1</td>\n",
       "    </tr>\n",
       "    <tr>\n",
       "      <th>...</th>\n",
       "      <td>...</td>\n",
       "      <td>...</td>\n",
       "      <td>...</td>\n",
       "    </tr>\n",
       "    <tr>\n",
       "      <th>81996</th>\n",
       "      <td>物流快递</td>\n",
       "      <td>大力推荐！合作了一次，各方面都挺好的，速度也快，服务态度也好，回复很快，总之是效率挺高，这点...</td>\n",
       "      <td>2</td>\n",
       "    </tr>\n",
       "    <tr>\n",
       "      <th>81997</th>\n",
       "      <td>物流快递</td>\n",
       "      <td>一个包裹 上门提货都足足等了二天</td>\n",
       "      <td>0</td>\n",
       "    </tr>\n",
       "    <tr>\n",
       "      <th>81998</th>\n",
       "      <td>物流快递</td>\n",
       "      <td>使用学院路店的服务，很不错，店里工作人员很热情，关键是仓储环境很不错，很适合企业存储一些东西</td>\n",
       "      <td>2</td>\n",
       "    </tr>\n",
       "    <tr>\n",
       "      <th>81999</th>\n",
       "      <td>物流快递</td>\n",
       "      <td>快递是蛮快的，只能说个别的接收点不行，服务态度差！无礼！太恶劣了无法好评！，</td>\n",
       "      <td>1</td>\n",
       "    </tr>\n",
       "    <tr>\n",
       "      <th>82000</th>\n",
       "      <td>物流快递</td>\n",
       "      <td>找这家合作了几次香港的运输服务，时效及报关方面感觉还不错，希望能提供更好的服务</td>\n",
       "      <td>2</td>\n",
       "    </tr>\n",
       "    <tr>\n",
       "      <th>82001</th>\n",
       "      <td>物流快递</td>\n",
       "      <td>金利发吊装公司人员专业技术过硬，我这里吊装塔吊几个吊装公司来看完场地不是价格超级贵就是说这个...</td>\n",
       "      <td>2</td>\n",
       "    </tr>\n",
       "    <tr>\n",
       "      <th>82002</th>\n",
       "      <td>物流快递</td>\n",
       "      <td>什么破玩意 现在竟然还是这状态 没更新  一个申通当不到天天百世了 越用越失望的快递 没有之一</td>\n",
       "      <td>0</td>\n",
       "    </tr>\n",
       "    <tr>\n",
       "      <th>82003</th>\n",
       "      <td>物流快递</td>\n",
       "      <td>明明5月2号下午才给我送的快件。竟然网上说4月30日已签收。真是狗血</td>\n",
       "      <td>0</td>\n",
       "    </tr>\n",
       "    <tr>\n",
       "      <th>82004</th>\n",
       "      <td>物流快递</td>\n",
       "      <td>这是我打给韵达的电话，快递员的电话说是空号，店里不接，然后在37度高温下走了一个多小时拿到的...</td>\n",
       "      <td>0</td>\n",
       "    </tr>\n",
       "    <tr>\n",
       "      <th>82005</th>\n",
       "      <td>物流快递</td>\n",
       "      <td>已经是长期合作伙伴，业务员回复快，上午交货给司机，下午就可以派送了，十分敬业的货运代理公司。...</td>\n",
       "      <td>2</td>\n",
       "    </tr>\n",
       "    <tr>\n",
       "      <th>82006</th>\n",
       "      <td>物流快递</td>\n",
       "      <td>要是不给星能评价绝对一颗星都不给，快件到了不给派送，给客服打电话说处理处理了五天没结果，我也...</td>\n",
       "      <td>0</td>\n",
       "    </tr>\n",
       "    <tr>\n",
       "      <th>82007</th>\n",
       "      <td>物流快递</td>\n",
       "      <td>挺好的 我这边发货经常走英脉 基本上没出过问题 坏了一箱货 有保价 很快就处理了 赞</td>\n",
       "      <td>2</td>\n",
       "    </tr>\n",
       "    <tr>\n",
       "      <th>82008</th>\n",
       "      <td>物流快递</td>\n",
       "      <td>我是第一次用这家物流公司，虽然平时也没怎么接触物流。这家是在网上找的，开始的时候也不知道到底...</td>\n",
       "      <td>2</td>\n",
       "    </tr>\n",
       "    <tr>\n",
       "      <th>82009</th>\n",
       "      <td>物流快递</td>\n",
       "      <td>价格实惠，快递小哥人也挺不错的寄快递我基本都用此快递。感觉安心高端手机未包装都直接电话快递收件。</td>\n",
       "      <td>2</td>\n",
       "    </tr>\n",
       "    <tr>\n",
       "      <th>82010</th>\n",
       "      <td>物流快递</td>\n",
       "      <td>近期家里装修，很多家具不知道该怎么处理，经朋友介绍现在有个新兴的迷你仓库还不错。在网上搜索了...</td>\n",
       "      <td>2</td>\n",
       "    </tr>\n",
       "    <tr>\n",
       "      <th>82011</th>\n",
       "      <td>物流快递</td>\n",
       "      <td>跟顺新物流合作有一年多了，算是老客户了，顺新物流不仅物流的速度很快，效果令人满意,服务很好，...</td>\n",
       "      <td>2</td>\n",
       "    </tr>\n",
       "    <tr>\n",
       "      <th>82012</th>\n",
       "      <td>物流快递</td>\n",
       "      <td>发货的时候就怕把货弄丢了弄没了，英脉不错有自动查单系统，到哪都能查着，丢了、没了都给赔，很放心</td>\n",
       "      <td>2</td>\n",
       "    </tr>\n",
       "    <tr>\n",
       "      <th>82013</th>\n",
       "      <td>物流快递</td>\n",
       "      <td>用过最慢的了，五天才到货，每次中转都是早上到达中转站，下午才开始走，货一直在中转站放一天。再...</td>\n",
       "      <td>0</td>\n",
       "    </tr>\n",
       "    <tr>\n",
       "      <th>82014</th>\n",
       "      <td>物流快递</td>\n",
       "      <td>虚假投送信息，网上查询6.28单位邮件章签收，但是30号依然没有收到。最诡异的是签收时间是6...</td>\n",
       "      <td>0</td>\n",
       "    </tr>\n",
       "    <tr>\n",
       "      <th>82015</th>\n",
       "      <td>物流快递</td>\n",
       "      <td>朋友介绍的这家公司，送货迅速，准时，物件无损伤，价格适中，我很满意，下次还会找他们的。</td>\n",
       "      <td>2</td>\n",
       "    </tr>\n",
       "    <tr>\n",
       "      <th>82016</th>\n",
       "      <td>物流快递</td>\n",
       "      <td>已经跟君威国际合作了一年了，最开始是朋友推荐的。之前走UPS快递，但是DHL的价格很不错，时...</td>\n",
       "      <td>2</td>\n",
       "    </tr>\n",
       "    <tr>\n",
       "      <th>82017</th>\n",
       "      <td>物流快递</td>\n",
       "      <td>我是通过朋友介绍找到他们的，母亲在北京要办寿宴就像让朋友吃到家乡的牦牛肉，和他们那个李经理联...</td>\n",
       "      <td>2</td>\n",
       "    </tr>\n",
       "    <tr>\n",
       "      <th>82018</th>\n",
       "      <td>物流快递</td>\n",
       "      <td>说实话在跟他们合作的这些年深深的体会到他们的退运业务做得真的很棒，我们一直找的这家做的，服务...</td>\n",
       "      <td>2</td>\n",
       "    </tr>\n",
       "    <tr>\n",
       "      <th>82019</th>\n",
       "      <td>物流快递</td>\n",
       "      <td>百世汇通很差，六天没送到，打电话两天前己到深圳，几分钟的路程今天又送了一天，明天不知能不能到...</td>\n",
       "      <td>0</td>\n",
       "    </tr>\n",
       "    <tr>\n",
       "      <th>82020</th>\n",
       "      <td>物流快递</td>\n",
       "      <td>第二次合作了，很满意，速度非常快！服务也很好，反正我是很难想象他们怎样做的这么快的。</td>\n",
       "      <td>2</td>\n",
       "    </tr>\n",
       "    <tr>\n",
       "      <th>82021</th>\n",
       "      <td>物流快递</td>\n",
       "      <td>还是挺信赖知更鸟，每次的货物全是交给贵公司去安排的，到达时间快，安全可靠！</td>\n",
       "      <td>2</td>\n",
       "    </tr>\n",
       "    <tr>\n",
       "      <th>82022</th>\n",
       "      <td>物流快递</td>\n",
       "      <td>雄图物流这家公司不错，服务周到，价格实惠，业务员对报关也是非常专业的，期待下一次的合作</td>\n",
       "      <td>2</td>\n",
       "    </tr>\n",
       "    <tr>\n",
       "      <th>82023</th>\n",
       "      <td>物流快递</td>\n",
       "      <td>华月物流最大的优势就是执行力强，很有部队的作风，很高效。我喜欢他们这种风格</td>\n",
       "      <td>2</td>\n",
       "    </tr>\n",
       "    <tr>\n",
       "      <th>82024</th>\n",
       "      <td>物流快递</td>\n",
       "      <td>服务很不错，而且很热情。希望你的生意越做越好啊！！呵呵..有机会还是希望找贵公司合作！！</td>\n",
       "      <td>2</td>\n",
       "    </tr>\n",
       "    <tr>\n",
       "      <th>82025</th>\n",
       "      <td>物流快递</td>\n",
       "      <td>第一次在他家发货是在网上找到的他们，当时只是抱着试试的心态走了一次，毕竟不认识又是在网上找的...</td>\n",
       "      <td>2</td>\n",
       "    </tr>\n",
       "  </tbody>\n",
       "</table>\n",
       "<p>82025 rows × 3 columns</p>\n",
       "</div>"
      ],
      "text/plain": [
       "          1                                                  2  3\n",
       "0                                                                \n",
       "1      食品餐饮  买这套系统本来是用来做我们公司的公众号第三方平台代运营的，没想到还有app，而且每个都很方便...  2\n",
       "2      食品餐饮                                  烤鸭还是不错的，别的菜没什么特殊的  1\n",
       "3      食品餐饮                             使用说明看不懂！不会用，很多操作没详细标明！  0\n",
       "4      食品餐饮                               越来越不好了，菜品也少了，服务也不及时。  0\n",
       "5      食品餐饮                                    是在是不知道该吃什么好、就来了  1\n",
       "6      食品餐饮                    跟这家公司合作过一次，系统功能很强大，运行很流畅，很不错的。。  2\n",
       "7      食品餐饮  点的中辣，但是比平时在店里吃的要辣很多，可能是叫外卖会比炒好直接吃花的时间长，辣味都出来了的...  2\n",
       "8      食品餐饮                                 的确是专业，用心做，出品方面都给好评  2\n",
       "9      食品餐饮                                还不错，下次有机会还来哈哈哈啊哈哈哈还  2\n",
       "10     食品餐饮                           不错，品种齐全，上菜很快，味道也不错，服务态度好  2\n",
       "11     食品餐饮                               感觉比店里少！不过很卫生！过年当的加了菜  2\n",
       "12     食品餐饮        这个就是我们需要的外卖点单系统。感谢你们解决了我的问题。有新办理时我还会来麻烦你们的。  2\n",
       "13     食品餐饮                          总体不错，就是海鲜还是太少了。希望可以多一些海鲜。  1\n",
       "14     食品餐饮  就在旁边上班，这里已经成为我们定点食堂之意，口味不错，服务也很热情，环境也不错，一直都是吃你...  2\n",
       "15     食品餐饮                             常去，味道不错。上菜时间超了，有个菜免费了。  2\n",
       "16     食品餐饮                                 经济实惠、好吃不贵，环境也是没得说。  2\n",
       "17     食品餐饮            最爱的一家日料店，性价比超高，刺身都非常新鲜，摆拍也漂亮，服务很热情，有求必应  2\n",
       "18     食品餐饮                            越来越差了，价位高了，菜量小了。希望努力提高。  0\n",
       "19     食品餐饮                               比晋祠路上的那个量少多了，各种东西量都少  0\n",
       "20     食品餐饮               挺好的，菜品有一些单一，扇贝好吃，水果太少，服务员服务可以，还是挺开心的  2\n",
       "21     食品餐饮                  吃货餐饮软件，在我使用那么多的收银软件中，最容易上手和操作的软件。  2\n",
       "22     食品餐饮  黄手艺冒菜吃过了，味道好，上菜速度快，可以说是色香味俱全，冒菜里加的青豆很好吃哦，香脆可口。...  2\n",
       "23     食品餐饮                                 哪个菜都不好吃，特别是烤鸭，太失望了  0\n",
       "24     食品餐饮                                  在中华餐饮网做推广什么样联系客服，  2\n",
       "25     食品餐饮                                菜品味道方面没有任何问题，价格也很适中  2\n",
       "26     食品餐饮         现如今的公司能够做成这样已经很不错了，微订点单网站的信息更新很及时，内容来源很真实。  2\n",
       "27     食品餐饮         这个软件优化方案都不错呢，非常的给力，现在排名上升很快了，相信再几天都首页没问题呢。  2\n",
       "28     食品餐饮  味道很好，特别是鱼饼很好吃，就是服务再好一点就可以了，好几个服务员站在那儿没事做，叫了几声都...  1\n",
       "29     食品餐饮                                来了很多次了，在自助餐里算性价比较高的  2\n",
       "30     食品餐饮  上菜速度快，但是份量感觉比以前小多了。有的菜品比较坑。点了一个鱼头泡饼。特别小的一个盘子，饼...  1\n",
       "...     ...                                                ... ..\n",
       "81996  物流快递  大力推荐！合作了一次，各方面都挺好的，速度也快，服务态度也好，回复很快，总之是效率挺高，这点...  2\n",
       "81997  物流快递                                   一个包裹 上门提货都足足等了二天  0\n",
       "81998  物流快递     使用学院路店的服务，很不错，店里工作人员很热情，关键是仓储环境很不错，很适合企业存储一些东西  2\n",
       "81999  物流快递             快递是蛮快的，只能说个别的接收点不行，服务态度差！无礼！太恶劣了无法好评！，  1\n",
       "82000  物流快递            找这家合作了几次香港的运输服务，时效及报关方面感觉还不错，希望能提供更好的服务  2\n",
       "82001  物流快递  金利发吊装公司人员专业技术过硬，我这里吊装塔吊几个吊装公司来看完场地不是价格超级贵就是说这个...  2\n",
       "82002  物流快递    什么破玩意 现在竟然还是这状态 没更新  一个申通当不到天天百世了 越用越失望的快递 没有之一  0\n",
       "82003  物流快递                 明明5月2号下午才给我送的快件。竟然网上说4月30日已签收。真是狗血  0\n",
       "82004  物流快递  这是我打给韵达的电话，快递员的电话说是空号，店里不接，然后在37度高温下走了一个多小时拿到的...  0\n",
       "82005  物流快递  已经是长期合作伙伴，业务员回复快，上午交货给司机，下午就可以派送了，十分敬业的货运代理公司。...  2\n",
       "82006  物流快递  要是不给星能评价绝对一颗星都不给，快件到了不给派送，给客服打电话说处理处理了五天没结果，我也...  0\n",
       "82007  物流快递         挺好的 我这边发货经常走英脉 基本上没出过问题 坏了一箱货 有保价 很快就处理了 赞  2\n",
       "82008  物流快递  我是第一次用这家物流公司，虽然平时也没怎么接触物流。这家是在网上找的，开始的时候也不知道到底...  2\n",
       "82009  物流快递   价格实惠，快递小哥人也挺不错的寄快递我基本都用此快递。感觉安心高端手机未包装都直接电话快递收件。  2\n",
       "82010  物流快递  近期家里装修，很多家具不知道该怎么处理，经朋友介绍现在有个新兴的迷你仓库还不错。在网上搜索了...  2\n",
       "82011  物流快递  跟顺新物流合作有一年多了，算是老客户了，顺新物流不仅物流的速度很快，效果令人满意,服务很好，...  2\n",
       "82012  物流快递    发货的时候就怕把货弄丢了弄没了，英脉不错有自动查单系统，到哪都能查着，丢了、没了都给赔，很放心  2\n",
       "82013  物流快递  用过最慢的了，五天才到货，每次中转都是早上到达中转站，下午才开始走，货一直在中转站放一天。再...  0\n",
       "82014  物流快递  虚假投送信息，网上查询6.28单位邮件章签收，但是30号依然没有收到。最诡异的是签收时间是6...  0\n",
       "82015  物流快递        朋友介绍的这家公司，送货迅速，准时，物件无损伤，价格适中，我很满意，下次还会找他们的。  2\n",
       "82016  物流快递  已经跟君威国际合作了一年了，最开始是朋友推荐的。之前走UPS快递，但是DHL的价格很不错，时...  2\n",
       "82017  物流快递  我是通过朋友介绍找到他们的，母亲在北京要办寿宴就像让朋友吃到家乡的牦牛肉，和他们那个李经理联...  2\n",
       "82018  物流快递  说实话在跟他们合作的这些年深深的体会到他们的退运业务做得真的很棒，我们一直找的这家做的，服务...  2\n",
       "82019  物流快递  百世汇通很差，六天没送到，打电话两天前己到深圳，几分钟的路程今天又送了一天，明天不知能不能到...  0\n",
       "82020  物流快递         第二次合作了，很满意，速度非常快！服务也很好，反正我是很难想象他们怎样做的这么快的。  2\n",
       "82021  物流快递              还是挺信赖知更鸟，每次的货物全是交给贵公司去安排的，到达时间快，安全可靠！  2\n",
       "82022  物流快递        雄图物流这家公司不错，服务周到，价格实惠，业务员对报关也是非常专业的，期待下一次的合作  2\n",
       "82023  物流快递              华月物流最大的优势就是执行力强，很有部队的作风，很高效。我喜欢他们这种风格  2\n",
       "82024  物流快递       服务很不错，而且很热情。希望你的生意越做越好啊！！呵呵..有机会还是希望找贵公司合作！！  2\n",
       "82025  物流快递  第一次在他家发货是在网上找到的他们，当时只是抱着试试的心态走了一次，毕竟不认识又是在网上找的...  2\n",
       "\n",
       "[82025 rows x 3 columns]"
      ]
     },
     "execution_count": 613,
     "metadata": {},
     "output_type": "execute_result"
    }
   ],
   "source": [
    "data_train=pd.read_csv(r'E:\\baidumatch\\sentiment\\data\\data_train.csv',encoding='gbk',delimiter=\"\\t\",header=None,index_col=0)\n",
    "data_test=pd.read_csv(r'E:\\baidumatch\\sentiment\\data\\data_test.csv',encoding='gbk',delimiter='\\t',header=None,index_col=0)\n",
    "data_train"
   ]
  },
  {
   "cell_type": "code",
   "execution_count": 612,
   "metadata": {
    "collapsed": true
   },
   "outputs": [],
   "source": [
    "\n",
    "data_train.columns=['a','b','c']\n",
    "#data_test"
   ]
  },
  {
   "cell_type": "code",
   "execution_count": null,
   "metadata": {
    "collapsed": true
   },
   "outputs": [],
   "source": [
    "data_train.iloc[:,0]\n",
    "dict={}\n",
    "for i in data_train.iloc[:,0]:\n",
    "    if i in dict:\n",
    "        dict[i]+=1\n",
    "    else:\n",
    "        dict[i]=1\n",
    "print(dict)"
   ]
  },
  {
   "cell_type": "code",
   "execution_count": null,
   "metadata": {
    "collapsed": true
   },
   "outputs": [],
   "source": [
    "#industry_dict={0:'食品餐饮',1:'医疗服务',2:'金融服务',3:'旅游住宿',4:'物流快递'}\n",
    "industry_dict={'食品餐饮':0,'医疗服务':1,'金融服务':2,'旅游住宿':3,'物流快递':4}"
   ]
  },
  {
   "cell_type": "code",
   "execution_count": null,
   "metadata": {
    "collapsed": true
   },
   "outputs": [],
   "source": [
    "data_train.iloc[:,0]=data_train.iloc[:,0].map(industry_dict)#注意：不要写成data_train.iloc[:,0].map(lambda x:industry_dict),这样就将每一行都映射为industry_dict了"
   ]
  },
  {
   "cell_type": "code",
   "execution_count": null,
   "metadata": {
    "collapsed": true
   },
   "outputs": [],
   "source": [
    "data_train"
   ]
  },
  {
   "cell_type": "code",
   "execution_count": null,
   "metadata": {
    "collapsed": true
   },
   "outputs": [],
   "source": [
    "pinglun=data_train['b'].values.tolist()"
   ]
  },
  {
   "cell_type": "code",
   "execution_count": null,
   "metadata": {
    "collapsed": true
   },
   "outputs": [],
   "source": [
    "pinglun"
   ]
  },
  {
   "cell_type": "code",
   "execution_count": null,
   "metadata": {
    "collapsed": true
   },
   "outputs": [],
   "source": [
    "contents_cut=[]\n",
    "for i in pinglun:\n",
    "    sentence_cut=jieba.lcut(str(i))\n",
    "    if sentence_cut!='\\r\\n': #有内容且不是换行符\n",
    "        contents_cut.append(sentence_cut)"
   ]
  },
  {
   "cell_type": "code",
   "execution_count": null,
   "metadata": {
    "collapsed": true
   },
   "outputs": [],
   "source": [
    "len(contents_cut)\n",
    "contents_cut"
   ]
  },
  {
   "cell_type": "code",
   "execution_count": null,
   "metadata": {
    "collapsed": true
   },
   "outputs": [],
   "source": [
    "global stopwords\n",
    "stopwords=pd.read_csv(r'F:\\tang_data\\text_analy\\stopwords.txt',index_col=False,sep='\\t',quoting=3,names=['stopword'],encoding='utf-8')\n",
    "#stopwords=pd.read_csv(r'F:\\tang_data\\text_analy\\stopwords.txt',index_col=False,sep=\"\\t\",quoting=3,names=['stopword'], encoding='utf-8')\n",
    "print(stopwords[:3])"
   ]
  },
  {
   "cell_type": "code",
   "execution_count": null,
   "metadata": {
    "collapsed": true
   },
   "outputs": [],
   "source": [
    "def drop_stopwords(contents,stopwords):\n",
    "    contents_clean=[]\n",
    "    all_clean_words=[]\n",
    "    for line in contents:\n",
    "        line_clean=[]\n",
    "        for i in line:\n",
    "            if i in stopwords or i=='[' or i==']':\n",
    "                continue\n",
    "            line_clean.append(i)\n",
    "            all_clean_words.append(i)\n",
    "            #line_clean_str=' '.join(line_clean_str)\n",
    "        contents_clean.append(line_clean)\n",
    "    return contents_clean,all_clean_words\n",
    "stopwords=stopwords.stopword.values.tolist()\n",
    "contents_clean,all_clean_words=drop_stopwords(contents_cut,stopwords)  #all_clean_words主要用来词云显示，对于算法模型无用\n",
    "df_contents_clean=pd.DataFrame({'contents_cut_clean':contents_clean})\n",
    "df_contents_clean.head()"
   ]
  },
  {
   "cell_type": "code",
   "execution_count": null,
   "metadata": {
    "collapsed": true
   },
   "outputs": [],
   "source": [
    "df_contents_clean.index = range(1,len(df_contents_clean) + 1)"
   ]
  },
  {
   "cell_type": "code",
   "execution_count": null,
   "metadata": {
    "collapsed": true
   },
   "outputs": [],
   "source": [
    "df_contents_clean"
   ]
  },
  {
   "cell_type": "code",
   "execution_count": null,
   "metadata": {
    "collapsed": true
   },
   "outputs": [],
   "source": [
    "data_train.b=df_contents_clean.contents_cut_clean"
   ]
  },
  {
   "cell_type": "code",
   "execution_count": null,
   "metadata": {
    "collapsed": true
   },
   "outputs": [],
   "source": [
    "data_train"
   ]
  },
  {
   "cell_type": "code",
   "execution_count": 614,
   "metadata": {},
   "outputs": [
    {
     "ename": "AttributeError",
     "evalue": "'DataFrame' object has no attribute 'b'",
     "output_type": "error",
     "traceback": [
      "\u001b[1;31m---------------------------------------------------------------------------\u001b[0m",
      "\u001b[1;31mAttributeError\u001b[0m                            Traceback (most recent call last)",
      "\u001b[1;32m<ipython-input-614-9f82a0fcc94f>\u001b[0m in \u001b[0;36m<module>\u001b[1;34m()\u001b[0m\n\u001b[1;32m----> 1\u001b[1;33m \u001b[0mdata_train\u001b[0m\u001b[1;33m.\u001b[0m\u001b[0mb\u001b[0m\u001b[1;33m=\u001b[0m\u001b[0mdata_train\u001b[0m\u001b[1;33m.\u001b[0m\u001b[0mb\u001b[0m\u001b[1;33m.\u001b[0m\u001b[0mmap\u001b[0m\u001b[1;33m(\u001b[0m\u001b[1;32mlambda\u001b[0m \u001b[0mx\u001b[0m\u001b[1;33m:\u001b[0m\u001b[1;34m' '\u001b[0m\u001b[1;33m.\u001b[0m\u001b[0mjoin\u001b[0m\u001b[1;33m(\u001b[0m\u001b[0mx\u001b[0m\u001b[1;33m)\u001b[0m\u001b[1;33m)\u001b[0m\u001b[1;33m\u001b[0m\u001b[0m\n\u001b[0m",
      "\u001b[1;32mD:\\anaconda\\envs\\tensorflow\\lib\\site-packages\\pandas\\core\\generic.py\u001b[0m in \u001b[0;36m__getattr__\u001b[1;34m(self, name)\u001b[0m\n\u001b[0;32m   3079\u001b[0m             \u001b[1;32mif\u001b[0m \u001b[0mname\u001b[0m \u001b[1;32min\u001b[0m \u001b[0mself\u001b[0m\u001b[1;33m.\u001b[0m\u001b[0m_info_axis\u001b[0m\u001b[1;33m:\u001b[0m\u001b[1;33m\u001b[0m\u001b[0m\n\u001b[0;32m   3080\u001b[0m                 \u001b[1;32mreturn\u001b[0m \u001b[0mself\u001b[0m\u001b[1;33m[\u001b[0m\u001b[0mname\u001b[0m\u001b[1;33m]\u001b[0m\u001b[1;33m\u001b[0m\u001b[0m\n\u001b[1;32m-> 3081\u001b[1;33m             \u001b[1;32mreturn\u001b[0m \u001b[0mobject\u001b[0m\u001b[1;33m.\u001b[0m\u001b[0m__getattribute__\u001b[0m\u001b[1;33m(\u001b[0m\u001b[0mself\u001b[0m\u001b[1;33m,\u001b[0m \u001b[0mname\u001b[0m\u001b[1;33m)\u001b[0m\u001b[1;33m\u001b[0m\u001b[0m\n\u001b[0m\u001b[0;32m   3082\u001b[0m \u001b[1;33m\u001b[0m\u001b[0m\n\u001b[0;32m   3083\u001b[0m     \u001b[1;32mdef\u001b[0m \u001b[0m__setattr__\u001b[0m\u001b[1;33m(\u001b[0m\u001b[0mself\u001b[0m\u001b[1;33m,\u001b[0m \u001b[0mname\u001b[0m\u001b[1;33m,\u001b[0m \u001b[0mvalue\u001b[0m\u001b[1;33m)\u001b[0m\u001b[1;33m:\u001b[0m\u001b[1;33m\u001b[0m\u001b[0m\n",
      "\u001b[1;31mAttributeError\u001b[0m: 'DataFrame' object has no attribute 'b'"
     ]
    }
   ],
   "source": [
    "data_train.b=data_train.b.map(lambda x:' '.join(x))"
   ]
  },
  {
   "cell_type": "code",
   "execution_count": null,
   "metadata": {
    "collapsed": true
   },
   "outputs": [],
   "source": [
    "data_train"
   ]
  },
  {
   "cell_type": "code",
   "execution_count": null,
   "metadata": {
    "collapsed": true
   },
   "outputs": [],
   "source": [
    "from keras.preprocessing import sequence\n",
    "from keras.preprocessing.text import Tokenizer"
   ]
  },
  {
   "cell_type": "code",
   "execution_count": null,
   "metadata": {
    "collapsed": true
   },
   "outputs": [],
   "source": [
    "train_0=data_train.loc[data_train['a'] == 0]"
   ]
  },
  {
   "cell_type": "code",
   "execution_count": null,
   "metadata": {
    "collapsed": true
   },
   "outputs": [],
   "source": [
    "train_0"
   ]
  },
  {
   "cell_type": "code",
   "execution_count": null,
   "metadata": {
    "collapsed": true
   },
   "outputs": [],
   "source": [
    "token=Tokenizer(num_words=2000)\n",
    "token.fit_on_texts(train_0.b)"
   ]
  },
  {
   "cell_type": "code",
   "execution_count": null,
   "metadata": {
    "collapsed": true
   },
   "outputs": [],
   "source": [
    "print(token.document_count)"
   ]
  },
  {
   "cell_type": "code",
   "execution_count": null,
   "metadata": {
    "collapsed": true
   },
   "outputs": [],
   "source": [
    "print(token.word_index)"
   ]
  },
  {
   "cell_type": "code",
   "execution_count": null,
   "metadata": {
    "collapsed": true
   },
   "outputs": [],
   "source": [
    "train_0_seq=token.texts_to_sequences(train_0.b)"
   ]
  },
  {
   "cell_type": "code",
   "execution_count": null,
   "metadata": {
    "collapsed": true
   },
   "outputs": [],
   "source": [
    "print(train_0_seq)"
   ]
  },
  {
   "cell_type": "code",
   "execution_count": null,
   "metadata": {
    "collapsed": true
   },
   "outputs": [],
   "source": [
    "x_0=sequence.pad_sequences(train_0_seq,15)"
   ]
  },
  {
   "cell_type": "code",
   "execution_count": null,
   "metadata": {
    "collapsed": true
   },
   "outputs": [],
   "source": [
    "print(x_0)"
   ]
  },
  {
   "cell_type": "code",
   "execution_count": null,
   "metadata": {
    "collapsed": true
   },
   "outputs": [],
   "source": [
    "from keras.models import Sequential\n",
    "from keras.layers.core import Dense,Dropout,Activation,Flatten\n",
    "from keras.layers.embeddings import Embedding\n",
    "from keras.layers.recurrent import SimpleRNN"
   ]
  },
  {
   "cell_type": "code",
   "execution_count": null,
   "metadata": {
    "collapsed": true
   },
   "outputs": [],
   "source": [
    "model=Sequential()\n",
    "model.add(Embedding(output_dim=32,input_dim=2000,input_length=15))\n",
    "model.add(Dropout(0.2))\n"
   ]
  },
  {
   "cell_type": "code",
   "execution_count": null,
   "metadata": {
    "collapsed": true
   },
   "outputs": [],
   "source": [
    "#model.add(Flatten())\n",
    "model.add(SimpleRNN(units=16))\n",
    "model.add(Dense(units=250,activation='relu'))\n",
    "model.add(Dropout(0.35))\n"
   ]
  },
  {
   "cell_type": "code",
   "execution_count": null,
   "metadata": {
    "collapsed": true
   },
   "outputs": [],
   "source": [
    "model.add(Dense(units=3,activation='softmax'))"
   ]
  },
  {
   "cell_type": "code",
   "execution_count": null,
   "metadata": {
    "collapsed": true
   },
   "outputs": [],
   "source": [
    "'''\n",
    "import numpy as np\n",
    "from keras.callbacks import Callback\n",
    "from sklearn.metrics import confusion_matrix, f1_score, precision_score, recall_score\n",
    "class Metrics(Callback):\n",
    "  def on_train_begin(self, logs={}):\n",
    "    self.val_f1s = []\n",
    "    self.val_recalls = []\n",
    "    self.val_precisions = []\n",
    "\n",
    "  def on_epoch_end(self, epoch, logs={}):\n",
    "    val_predict=(np.asarray(self.model.predict(self.model.validation_data[0]))).round()\n",
    "    val_targ = self.model.validation_data[1]\n",
    "    _val_f1 = f1_score(val_targ, val_predict)\n",
    "    _val_recall = recall_score(val_targ, val_predict)\n",
    "    _val_precision = precision_score(va_targ, val)\n",
    "    self.val_f1s.append(_val_f1)\n",
    "    self.val_recalls.append(_val_recall)\n",
    "    self.val_precisions.append(_val_precision)\n",
    "    print('-val_f1: %.4f --val_precision: %.4f --val_recall: %.4f'%(_val_f1, _val_precision, _val_recall))\n",
    "    return\n",
    "\n",
    "metrics = Metrics()\n",
    "\n",
    "'''"
   ]
  },
  {
   "cell_type": "code",
   "execution_count": null,
   "metadata": {
    "collapsed": true
   },
   "outputs": [],
   "source": [
    "adam=keras.optimizers.Adamax(lr=0.008)"
   ]
  },
  {
   "cell_type": "code",
   "execution_count": null,
   "metadata": {
    "collapsed": true
   },
   "outputs": [],
   "source": [
    "model.compile(loss='categorical_crossentropy',optimizer=adam,metrics=['categorical_accuracy'])\n",
    "#help(model.compile)"
   ]
  },
  {
   "cell_type": "code",
   "execution_count": null,
   "metadata": {
    "collapsed": true
   },
   "outputs": [],
   "source": [
    "model.summary()"
   ]
  },
  {
   "cell_type": "code",
   "execution_count": null,
   "metadata": {
    "collapsed": true
   },
   "outputs": [],
   "source": [
    "y_0=train_0.c"
   ]
  },
  {
   "cell_type": "code",
   "execution_count": null,
   "metadata": {
    "collapsed": true
   },
   "outputs": [],
   "source": [
    "from keras.utils import np_utils\n",
    "y_0_onehot=np_utils.to_categorical(y_0)\n",
    "y_0_onehot"
   ]
  },
  {
   "cell_type": "code",
   "execution_count": null,
   "metadata": {
    "collapsed": true
   },
   "outputs": [],
   "source": [
    "train_history=model.fit(x_0,y_0_onehot,batch_size=100,epochs=60,verbose=2,validation_split=0.2)"
   ]
  },
  {
   "cell_type": "code",
   "execution_count": null,
   "metadata": {
    "collapsed": true
   },
   "outputs": [],
   "source": []
  },
  {
   "cell_type": "code",
   "execution_count": null,
   "metadata": {
    "collapsed": true
   },
   "outputs": [],
   "source": [
    "import keras\n",
    "help(keras.optimizers.Adamax)"
   ]
  },
  {
   "cell_type": "code",
   "execution_count": null,
   "metadata": {
    "collapsed": true
   },
   "outputs": [],
   "source": [
    "from keras.utils import np_utils\n",
    "train_1=data_train.loc[data_train['a'] == 1]\n",
    "train_1_seq=token.texts_to_sequences(train_1.b)\n",
    "x_1=sequence.pad_sequences(train_1_seq,15)\n",
    "y_1=train_1.c\n",
    "y_1_onehot=np_utils.to_categorical(y_1)\n",
    "\n",
    "train_2=data_train.loc[data_train['a'] == 2]\n",
    "train_2_seq=token.texts_to_sequences(train_2.b)\n",
    "x_2=sequence.pad_sequences(train_2_seq,15)\n",
    "y_2=train_2.c\n",
    "y_2_onehot=np_utils.to_categorical(y_2)\n",
    "\n",
    "train_3=data_train.loc[data_train['a'] == 3]\n",
    "train_3_seq=token.texts_to_sequences(train_3.b)\n",
    "x_3=sequence.pad_sequences(train_3_seq,15)\n",
    "y_3=train_3.c\n",
    "y_3_onehot=np_utils.to_categorical(y_3)\n",
    "\n",
    "train_4=data_train.loc[data_train['a'] == 4]\n",
    "train_4_seq=token.texts_to_sequences(train_4.b)\n",
    "x_4=sequence.pad_sequences(train_4_seq,15)\n",
    "y_4=train_4.c\n",
    "y_4_onehot=np_utils.to_categorical(y_4)"
   ]
  },
  {
   "cell_type": "code",
   "execution_count": null,
   "metadata": {
    "collapsed": true
   },
   "outputs": [],
   "source": [
    "train_history=model.fit(x_1,y_1_onehot,batch_size=100,epochs=60,verbose=2,validation_split=0.2)"
   ]
  },
  {
   "cell_type": "code",
   "execution_count": null,
   "metadata": {
    "collapsed": true
   },
   "outputs": [],
   "source": [
    "train_history=model.fit(x_4,y_4_onehot,batch_size=100,epochs=60,verbose=2,validation_split=0.2)"
   ]
  }
 ],
 "metadata": {
  "kernelspec": {
   "display_name": "Python 3",
   "language": "python",
   "name": "python3"
  },
  "language_info": {
   "codemirror_mode": {
    "name": "ipython",
    "version": 3
   },
   "file_extension": ".py",
   "mimetype": "text/x-python",
   "name": "python",
   "nbconvert_exporter": "python",
   "pygments_lexer": "ipython3",
   "version": "3.6.2"
  }
 },
 "nbformat": 4,
 "nbformat_minor": 2
}
